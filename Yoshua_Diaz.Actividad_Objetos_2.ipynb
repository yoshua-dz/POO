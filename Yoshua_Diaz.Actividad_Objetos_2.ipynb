{
  "nbformat": 4,
  "nbformat_minor": 0,
  "metadata": {
    "colab": {
      "provenance": [],
      "authorship_tag": "ABX9TyOvpRUTHBVfifw8FjyPO3NV",
      "include_colab_link": true
    },
    "kernelspec": {
      "name": "python3",
      "display_name": "Python 3"
    },
    "language_info": {
      "name": "python"
    }
  },
  "cells": [
    {
      "cell_type": "markdown",
      "metadata": {
        "id": "view-in-github",
        "colab_type": "text"
      },
      "source": [
        "<a href=\"https://colab.research.google.com/github/yoshua-dz/POO/blob/main/Yoshua_Diaz.Actividad_Objetos_2.ipynb\" target=\"_parent\"><img src=\"https://colab.research.google.com/assets/colab-badge.svg\" alt=\"Open In Colab\"/></a>"
      ]
    },
    {
      "cell_type": "code",
      "execution_count": null,
      "metadata": {
        "colab": {
          "base_uri": "https://localhost:8080/"
        },
        "id": "Iv9brmrOu9MA",
        "outputId": "8e35bdd0-19b1-40e0-b9cc-44beb5aa0599"
      },
      "outputs": [
        {
          "output_type": "stream",
          "name": "stdout",
          "text": [
            "\n",
            "Nombre:  Julieta Venegas\n",
            "Departamento:  Biblioteca\n",
            "Salario:  5000\n",
            "\n",
            "- - - - El salario no puede ser negativo - - - -\n",
            "\n",
            "Nombre:  Yoshua Díaz\n",
            "Departamento:  Administración\n",
            "Salario:  5000\n"
          ]
        }
      ],
      "source": [
        "class EmpleadoUniversitario:\n",
        "  def __init__(self, nombre, departamento, salario):\n",
        "    self.nombre = nombre\n",
        "    self.departamento = departamento\n",
        "    self.salario = salario\n",
        "\n",
        "  def mostrar_informacion(self):\n",
        "    print(\"\\nNombre: \", self.nombre)\n",
        "    print(\"Departamento: \", self.departamento)\n",
        "    print(\"Salario: \", self.salario)\n",
        "\n",
        "  def get_nombre(self):\n",
        "    return self.nombre\n",
        "\n",
        "  def get_departamento(self):\n",
        "    return self.departamento\n",
        "\n",
        "  def get_salario(self):\n",
        "    return self.salario\n",
        "\n",
        "  def set_nombre(self, nombre):\n",
        "    self.nombre = nombre\n",
        "\n",
        "  def set_departamento(self, departamento):\n",
        "    self.departamento = departamento\n",
        "\n",
        "  def set_salario(self, salario):\n",
        "    if salario < 0:\n",
        "      print(\"\\n- - - - El salario no puede ser negativo - - - -\")\n",
        "    else:\n",
        "      self.salario = salario\n",
        "\n",
        "\n",
        "empleado1 = EmpleadoUniversitario(\"Julieta Venegas\", \"Biblioteca\", 5000)\n",
        "empleado1.mostrar_informacion()\n",
        "empleado1.set_nombre(\"Yoshua Díaz\")\n",
        "empleado1.set_departamento(\"Administración\")\n",
        "empleado1.set_salario(-6000)\n",
        "empleado1.mostrar_informacion()"
      ]
    }
  ]
}