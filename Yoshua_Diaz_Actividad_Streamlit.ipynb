{
  "nbformat": 4,
  "nbformat_minor": 0,
  "metadata": {
    "colab": {
      "provenance": [],
      "authorship_tag": "ABX9TyOuMdWBaLHci+EQoKwT52+P",
      "include_colab_link": true
    },
    "kernelspec": {
      "name": "python3",
      "display_name": "Python 3"
    },
    "language_info": {
      "name": "python"
    }
  },
  "cells": [
    {
      "cell_type": "markdown",
      "metadata": {
        "id": "view-in-github",
        "colab_type": "text"
      },
      "source": [
        "<a href=\"https://colab.research.google.com/github/yoshua-dz/POO/blob/main/Yoshua_Diaz_Actividad_Streamlit.ipynb\" target=\"_parent\"><img src=\"https://colab.research.google.com/assets/colab-badge.svg\" alt=\"Open In Colab\"/></a>"
      ]
    },
    {
      "cell_type": "code",
      "execution_count": 4,
      "metadata": {
        "colab": {
          "base_uri": "https://localhost:8080/"
        },
        "id": "2iJBT3BfUTS4",
        "outputId": "2cd5ffa9-eec1-48b9-e656-bcdcacb2e190"
      },
      "outputs": [
        {
          "output_type": "stream",
          "name": "stderr",
          "text": [
            "2025-05-16 18:28:13.175 Thread 'MainThread': missing ScriptRunContext! This warning can be ignored when running in bare mode.\n",
            "2025-05-16 18:28:13.176 Thread 'MainThread': missing ScriptRunContext! This warning can be ignored when running in bare mode.\n",
            "2025-05-16 18:28:13.180 Thread 'MainThread': missing ScriptRunContext! This warning can be ignored when running in bare mode.\n",
            "2025-05-16 18:28:13.183 Thread 'MainThread': missing ScriptRunContext! This warning can be ignored when running in bare mode.\n",
            "2025-05-16 18:28:13.186 Thread 'MainThread': missing ScriptRunContext! This warning can be ignored when running in bare mode.\n",
            "2025-05-16 18:28:13.189 Thread 'MainThread': missing ScriptRunContext! This warning can be ignored when running in bare mode.\n",
            "2025-05-16 18:28:13.190 Thread 'MainThread': missing ScriptRunContext! This warning can be ignored when running in bare mode.\n",
            "2025-05-16 18:28:13.193 Thread 'MainThread': missing ScriptRunContext! This warning can be ignored when running in bare mode.\n",
            "2025-05-16 18:28:13.200 Thread 'MainThread': missing ScriptRunContext! This warning can be ignored when running in bare mode.\n",
            "2025-05-16 18:28:13.203 Thread 'MainThread': missing ScriptRunContext! This warning can be ignored when running in bare mode.\n",
            "2025-05-16 18:28:13.206 Thread 'MainThread': missing ScriptRunContext! This warning can be ignored when running in bare mode.\n",
            "2025-05-16 18:28:13.207 Thread 'MainThread': missing ScriptRunContext! This warning can be ignored when running in bare mode.\n",
            "2025-05-16 18:28:13.209 Thread 'MainThread': missing ScriptRunContext! This warning can be ignored when running in bare mode.\n",
            "2025-05-16 18:28:13.210 Thread 'MainThread': missing ScriptRunContext! This warning can be ignored when running in bare mode.\n",
            "2025-05-16 18:28:13.212 Thread 'MainThread': missing ScriptRunContext! This warning can be ignored when running in bare mode.\n",
            "2025-05-16 18:28:13.213 Thread 'MainThread': missing ScriptRunContext! This warning can be ignored when running in bare mode.\n",
            "2025-05-16 18:28:13.215 Thread 'MainThread': missing ScriptRunContext! This warning can be ignored when running in bare mode.\n",
            "2025-05-16 18:28:13.225 Thread 'MainThread': missing ScriptRunContext! This warning can be ignored when running in bare mode.\n",
            "2025-05-16 18:28:13.226 Thread 'MainThread': missing ScriptRunContext! This warning can be ignored when running in bare mode.\n",
            "2025-05-16 18:28:13.235 Thread 'MainThread': missing ScriptRunContext! This warning can be ignored when running in bare mode.\n",
            "2025-05-16 18:28:13.237 Thread 'MainThread': missing ScriptRunContext! This warning can be ignored when running in bare mode.\n"
          ]
        }
      ],
      "source": [
        "import streamlit as st\n",
        "\n",
        "class ToDoList:\n",
        "    def __init__(self):\n",
        "        self.tareas = []\n",
        "\n",
        "    def agregar_tarea(self, descripcion):\n",
        "        self.tareas.append({\"descripcion\": descripcion, \"completada\": False})\n",
        "\n",
        "    def marcar_completada(self, indice):\n",
        "        if 0 <= indice < len(self.tareas):\n",
        "            self.tareas[indice][\"completada\"] = True\n",
        "\n",
        "    def eliminar_tarea(self, indice):\n",
        "        if 0 <= indice < len(self.tareas):\n",
        "            self.tareas.pop(indice)\n",
        "\n",
        "    def obtener_tareas(self):\n",
        "        return self.tareas\n",
        "\n",
        "\n",
        "\n",
        "st.title(\" - - - To-Do List con Streamlit - - -\")\n",
        "\n",
        "if \"todo\" not in st.session_state:\n",
        "    st.session_state.todo = ToDoList()\n",
        "\n",
        "st.subheader(\"Agregar nueva tarea\")\n",
        "nueva_tarea = st.text_input(\"Descripción de la tarea\")\n",
        "\n",
        "if st.button(\"Agregar\"):\n",
        "    if nueva_tarea:\n",
        "        st.session_state.todo.agregar_tarea(nueva_tarea)\n",
        "        st.success(\"Tarea agregada correctamente.\")\n",
        "    else:\n",
        "        st.warning(\"Escriba una tarea primero.\")\n",
        "\n",
        "st.subheader(\"Tareas pendientes\")\n",
        "tareas = st.session_state.todo.obtener_tareas()\n",
        "\n",
        "if not tareas:\n",
        "    st.info(\"No hay tareas pendientes.\")\n",
        "else:\n",
        "    for i, tarea in enumerate(tareas):\n",
        "        cols = st.columns([0.05, 0.8, 0.15])\n",
        "        if not tarea[\"completada\"]:\n",
        "            if cols[0].checkbox(\"\", key=f\"check_{i}\"):\n",
        "                st.session_state.todo.marcar_completada(i)\n",
        "        cols[1].write(f\"**{tarea['descripcion']}**\" if not tarea[\"completada\"] else f\"✅ ~~{tarea['descripcion']}~~\")\n",
        "        if cols[2].button(\"🗑️\", key=f\"del_{i}\"):\n",
        "            st.session_state.todo.eliminar_tarea(i)\n",
        "            st.experimental_rerun()\n",
        "\n",
        "# Al ejecutarlo de manera local desde mi compu abre correctamente el front-end\n",
        "# Ejecutandolo con 'streamlit run todo_app.py'\n",
        "# http://localhost:8502/\n"
      ]
    },
    {
      "cell_type": "code",
      "source": [
        "!pip install -q streamlit"
      ],
      "metadata": {
        "colab": {
          "base_uri": "https://localhost:8080/"
        },
        "id": "cnFrYeHUVMCS",
        "outputId": "297ed51f-74d8-4a12-b070-03d5d3252902"
      },
      "execution_count": 2,
      "outputs": [
        {
          "output_type": "stream",
          "name": "stdout",
          "text": [
            "\u001b[2K     \u001b[90m━━━━━━━━━━━━━━━━━━━━━━━━━━━━━━━━━━━━━━━━\u001b[0m \u001b[32m44.3/44.3 kB\u001b[0m \u001b[31m2.4 MB/s\u001b[0m eta \u001b[36m0:00:00\u001b[0m\n",
            "\u001b[2K   \u001b[90m━━━━━━━━━━━━━━━━━━━━━━━━━━━━━━━━━━━━━━━━\u001b[0m \u001b[32m9.9/9.9 MB\u001b[0m \u001b[31m74.4 MB/s\u001b[0m eta \u001b[36m0:00:00\u001b[0m\n",
            "\u001b[2K   \u001b[90m━━━━━━━━━━━━━━━━━━━━━━━━━━━━━━━━━━━━━━━━\u001b[0m \u001b[32m6.9/6.9 MB\u001b[0m \u001b[31m101.3 MB/s\u001b[0m eta \u001b[36m0:00:00\u001b[0m\n",
            "\u001b[2K   \u001b[90m━━━━━━━━━━━━━━━━━━━━━━━━━━━━━━━━━━━━━━━━\u001b[0m \u001b[32m79.1/79.1 kB\u001b[0m \u001b[31m5.1 MB/s\u001b[0m eta \u001b[36m0:00:00\u001b[0m\n",
            "\u001b[?25h"
          ]
        }
      ]
    }
  ]
}