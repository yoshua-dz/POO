{
  "nbformat": 4,
  "nbformat_minor": 0,
  "metadata": {
    "colab": {
      "provenance": [],
      "authorship_tag": "ABX9TyNjYvWL45f0LlAip3hZXdp9",
      "include_colab_link": true
    },
    "kernelspec": {
      "name": "python3",
      "display_name": "Python 3"
    },
    "language_info": {
      "name": "python"
    }
  },
  "cells": [
    {
      "cell_type": "markdown",
      "metadata": {
        "id": "view-in-github",
        "colab_type": "text"
      },
      "source": [
        "<a href=\"https://colab.research.google.com/github/yoshua-dz/POO/blob/main/Serializaci%C3%B3n_de_Objetos.ipynb\" target=\"_parent\"><img src=\"https://colab.research.google.com/assets/colab-badge.svg\" alt=\"Open In Colab\"/></a>"
      ]
    },
    {
      "cell_type": "code",
      "execution_count": 17,
      "metadata": {
        "id": "dj8xqijhIeWG"
      },
      "outputs": [],
      "source": [
        "import pickle\n",
        "list=[\"apple\", \"grapes\",\"pear\"]\n",
        "with open(\"lst.pkl\",'wb') as file:\n",
        "  pickle.dump(list,file)\n",
        "# lista guardado en un archivo serializando la lista\n",
        "\n",
        "#La serialización da la capacidad de guardar objetos en un formato que sea facilmente \"exportable\""
      ]
    },
    {
      "cell_type": "code",
      "source": [
        "import pickle\n",
        "with open(\"lst.pkl\",'rb') as file:\n",
        "  retrive_list= pickle.load(file)\n",
        "print(retrive_list)\n",
        "# lista recuperada del archivo serializando donde se encuentra la lista"
      ],
      "metadata": {
        "colab": {
          "base_uri": "https://localhost:8080/"
        },
        "id": "jvWCiaQuJL7X",
        "outputId": "8604f71b-50b4-4cbd-a731-7d73eafb3574"
      },
      "execution_count": 18,
      "outputs": [
        {
          "output_type": "stream",
          "name": "stdout",
          "text": [
            "['apple', 'grapes', 'pear']\n"
          ]
        }
      ]
    },
    {
      "cell_type": "code",
      "source": [
        "import pickle\n",
        "import os\n",
        "class Student:\n",
        "  def __init__(self, student_id, name, age, gender, grade, email, phone, address):\n",
        "    self.student_id = student_id\n",
        "    self.name = name\n",
        "    self.age = age\n",
        "    self.gender = gender\n",
        "    self.grade = grade\n",
        "    self.email = email\n",
        "    self.phone = phone\n",
        "    self.address = address\n",
        "\n",
        "  def __str__(self):\n",
        "    return (f\"ID: {self.student_id}, Name: {self.name}, Age: {self.age}, Gender: {self.gender}, \"f\"Grade: {self.grade}, Email: {self.email}, Phone: {self.phone}, Address: {self.address}\")\n",
        "\n",
        "class StudentCRUD:\n",
        "  FILE_NAME = 'students.pkl'\n",
        "\n",
        "  def __init__(self):\n",
        "    self.students = self.load_students()\n",
        "\n",
        "  def load_students(self):\n",
        "    \"\"\"Load students from the pickle file.\"\"\"\n",
        "    if os.path.exists(self.FILE_NAME):\n",
        "      with open(self.FILE_NAME, 'rb') as f:\n",
        "        return pickle.load(f)\n",
        "    return []\n",
        "\n",
        "  def save_students(self):\n",
        "    \"\"\"Save students to the pickle file.\"\"\"\n",
        "    with open(self.FILE_NAME, 'wb') as f:\n",
        "      pickle.dump(self.students, f)\n",
        "\n",
        "  def create_student(self, student):\n",
        "    \"\"\"Add a new student.\"\"\"\n",
        "    self.students.append(student)\n",
        "    self.save_students()\n",
        "    print(f\"Student {student.name} added successfully.\")\n",
        "\n",
        "  def read_student(self, student_id):\n",
        "    \"\"\"Retrieve a student by ID.\"\"\"\n",
        "    for student in self.students:\n",
        "      if student.student_id == student_id:\n",
        "        return student\n",
        "    print(f\"No student found with ID: {student_id}\")\n",
        "    return None\n",
        "\n",
        "  def update_student(self, student_id, **kwargs):\n",
        "    \"\"\"Update student information.\"\"\"\n",
        "    student = self.read_student(student_id)\n",
        "    if student:\n",
        "      for key, value in kwargs.items():\n",
        "        if hasattr(student, key):\n",
        "          setattr(student, key, value)\n",
        "      self.save_students()\n",
        "      print(f\"Student {student_id} updated successfully.\")\n",
        "\n",
        "  def delete_student(self, student_id):\n",
        "    \"\"\"Delete a student by ID.\"\"\"\n",
        "    student = self.read_student(student_id)\n",
        "    if student:\n",
        "      self.students.remove(student)\n",
        "      self.save_students()\n",
        "      print(f\"Student {student_id} deleted successfully.\")\n",
        "\n",
        "  def list_students(self):\n",
        "    \"\"\"List all students.\"\"\"\n",
        "    if self.students:\n",
        "      for student in self.students:\n",
        "        print(student)\n",
        "    else:\n",
        "      print(\"No students available.\")\n",
        "\n",
        "\n",
        "if __name__ == '__main__':\n",
        "  crud = StudentCRUD()\n",
        "#\n",
        "student1 = Student(1, \"Alice\", 20, \"Female\", \"A\", \"alice@example.com\", \"1234567890\", \"123 Main St\")\n",
        "student2 = Student(2, \"Bob\", 22, \"Male\", \"B\", \"bob@example.com\", \"0987654321\", \"456 Elm St\")\n",
        "#\n",
        "crud.create_student(student1)\n",
        "crud.create_student(student2)\n",
        "#\n",
        "print(\"\\nList of Students:\")\n",
        "crud.list_students()\n",
        "#\n",
        "crud.update_student(1, grade=\"A+\", phone=\"1112223333\")\n",
        "#\n",
        "print(\"\\nUpdated Student Details:\")\n",
        "print(crud.read_student(1))\n",
        "#\n",
        "crud.delete_student(2)\n",
        "#\n",
        "print(\"\\nList of Students after Deletion:\")\n",
        "crud.list_students()"
      ],
      "metadata": {
        "colab": {
          "base_uri": "https://localhost:8080/"
        },
        "id": "NlphUC2BJvM_",
        "outputId": "d79cc843-4d33-4ec7-80dd-f3a4e582353a"
      },
      "execution_count": 27,
      "outputs": [
        {
          "output_type": "stream",
          "name": "stdout",
          "text": [
            "Student Alice added successfully.\n",
            "Student Bob added successfully.\n",
            "\n",
            "List of Students:\n",
            "ID: 1, Name: Alice, Age: 20, Gender: Female, Grade: A, Email: alice@example.com, Phone: 1234567890, Address: 123 Main St\n",
            "ID: 2, Name: Bob, Age: 22, Gender: Male, Grade: B, Email: bob@example.com, Phone: 0987654321, Address: 456 Elm St\n",
            "Student 1 updated successfully.\n",
            "\n",
            "Updated Student Details:\n",
            "ID: 1, Name: Alice, Age: 20, Gender: Female, Grade: A+, Email: alice@example.com, Phone: 1112223333, Address: 123 Main St\n",
            "Student 2 deleted successfully.\n",
            "\n",
            "List of Students after Deletion:\n",
            "ID: 1, Name: Alice, Age: 20, Gender: Female, Grade: A+, Email: alice@example.com, Phone: 1112223333, Address: 123 Main St\n"
          ]
        }
      ]
    }
  ]
}