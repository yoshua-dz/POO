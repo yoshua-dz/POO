{
  "nbformat": 4,
  "nbformat_minor": 0,
  "metadata": {
    "colab": {
      "provenance": [],
      "include_colab_link": true
    },
    "kernelspec": {
      "name": "python3",
      "display_name": "Python 3"
    },
    "language_info": {
      "name": "python"
    }
  },
  "cells": [
    {
      "cell_type": "markdown",
      "metadata": {
        "id": "view-in-github",
        "colab_type": "text"
      },
      "source": [
        "<a href=\"https://colab.research.google.com/github/yoshua-dz/POO/blob/main/Yoshua_Diaz_Emails.ipynb\" target=\"_parent\"><img src=\"https://colab.research.google.com/assets/colab-badge.svg\" alt=\"Open In Colab\"/></a>"
      ]
    },
    {
      "cell_type": "code",
      "source": [
        "import smtplib, ssl\n",
        "\n",
        "port = 587  # For starttls\n",
        "smtp_server = \"smtp.gmail.com\"\n",
        "sender_email = \"yoshdiazcastillo@gmail.com\" # origen\n",
        "receiver_email = \"YOSHUA.DIAZ6629@ALUMNOS.UDG.MX\" # destinatario\n",
        "password = \"uiym vdoi ovzo uskl\"\n",
        "message = \"\"\"\\\n",
        "Subject: Hi there whats going on\n",
        "\n",
        "This message is sent from Python.\"\"\" # Cuerpo del correo\n",
        "\n",
        "context = ssl.create_default_context()\n",
        "\n",
        "try: # try previene que el código se rompa cuando encuentra un error, como que no coincida la contraseña con el usuario\n",
        "    with smtplib.SMTP(smtp_server, port) as server:\n",
        "        server.ehlo()\n",
        "        server.starttls(context=context)\n",
        "        server.ehlo()\n",
        "        server.login(sender_email, password)\n",
        "        server.sendmail(sender_email, receiver_email, message)\n",
        "    print(\"Correo enviado con éxito.\")\n",
        "except smtplib.SMTPAuthenticationError:\n",
        "    print(\"Error de autenticación. Revisa el correo o la contraseña de aplicación.\")\n",
        "except smtplib.SMTPException as e:\n",
        "    print(\"Ocurrió un error al enviar el correo:\", e)"
      ],
      "metadata": {
        "id": "5q-JvOEkvcGJ",
        "outputId": "6f06615a-8bb5-4b9d-9cf4-4a67383acbf4",
        "colab": {
          "base_uri": "https://localhost:8080/"
        }
      },
      "execution_count": null,
      "outputs": [
        {
          "output_type": "stream",
          "name": "stdout",
          "text": [
            "Correo enviado con éxito.\n"
          ]
        }
      ]
    }
  ]
}