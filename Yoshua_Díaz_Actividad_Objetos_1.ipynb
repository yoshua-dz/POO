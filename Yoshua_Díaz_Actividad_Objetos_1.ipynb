{
  "nbformat": 4,
  "nbformat_minor": 0,
  "metadata": {
    "colab": {
      "provenance": [],
      "authorship_tag": "ABX9TyN+dUvwsEnJEV2H0G9HEFpn",
      "include_colab_link": true
    },
    "kernelspec": {
      "name": "python3",
      "display_name": "Python 3"
    },
    "language_info": {
      "name": "python"
    }
  },
  "cells": [
    {
      "cell_type": "markdown",
      "metadata": {
        "id": "view-in-github",
        "colab_type": "text"
      },
      "source": [
        "<a href=\"https://colab.research.google.com/github/yoshua-dz/POO/blob/main/Yoshua_D%C3%ADaz_Actividad_Objetos_1.ipynb\" target=\"_parent\"><img src=\"https://colab.research.google.com/assets/colab-badge.svg\" alt=\"Open In Colab\"/></a>"
      ]
    },
    {
      "cell_type": "code",
      "execution_count": null,
      "metadata": {
        "colab": {
          "base_uri": "https://localhost:8080/"
        },
        "id": "AO0zL-2BRhGa",
        "outputId": "9c1a7d5e-3b66-4e84-9503-dc88e2ab0f2e"
      },
      "outputs": [
        {
          "output_type": "stream",
          "name": "stdout",
          "text": [
            "Toyota Corolla, Año: 2020\n",
            "Última verificación: 2025-05-12\n"
          ]
        }
      ],
      "source": [
        "from datetime import date\n",
        "\n",
        "class Auto:\n",
        "    def __init__(self, marca, modelo, anio):\n",
        "        self.marca = marca\n",
        "        self.modelo = modelo\n",
        "        self.anio = anio\n",
        "\n",
        "    def get_info(self):\n",
        "        print(f\"{self.marca} {self.modelo}, Año: {self.anio}\")\n",
        "\n",
        "    def ultima_verificación(self):\n",
        "        print(\"Última verificación:\", date.today()) #Se usa 'date' para detectar la fecha actual\n",
        "\n",
        "my_car = Auto(\"Toyota\", \"Corolla\", 2020)\n",
        "\n",
        "my_car.get_info()\n",
        "my_car.ultima_verificación()\n"
      ]
    }
  ]
}