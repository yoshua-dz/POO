{
  "nbformat": 4,
  "nbformat_minor": 0,
  "metadata": {
    "colab": {
      "provenance": [],
      "include_colab_link": true
    },
    "kernelspec": {
      "name": "python3",
      "display_name": "Python 3"
    },
    "language_info": {
      "name": "python"
    }
  },
  "cells": [
    {
      "cell_type": "markdown",
      "metadata": {
        "id": "view-in-github",
        "colab_type": "text"
      },
      "source": [
        "<a href=\"https://colab.research.google.com/github/yoshua-dz/POO/blob/main/YOSHUA_ISAAC_DIAZ_CASTILLO_Ejercicios_CLASE_2025_Diagnostico.ipynb\" target=\"_parent\"><img src=\"https://colab.research.google.com/assets/colab-badge.svg\" alt=\"Open In Colab\"/></a>"
      ]
    },
    {
      "cell_type": "markdown",
      "source": [
        "\n",
        "\n",
        "---\n",
        "\n",
        "## **Ejercicios de Python 3**  \n",
        "\n",
        "\n",
        "\n",
        "---\n",
        "\n",
        "### **1. Suma de Pares en una Lista **  \n",
        "#### **Problema**  \n",
        "Dada una lista de números enteros, encuentra todas las combinaciones de dos números cuya suma sea un valor objetivo.  \n",
        "\n",
        "#### **Ejemplo**  \n",
        "```python\n",
        "print(encontrar_pares([1, 2, 3, 4, 5, 6], 7))  \n",
        "# [(1, 6), (2, 5), (3, 4)]\n",
        "```\n",
        "\n",
        "\n",
        "\n",
        "---\n",
        "\n",
        "### **2. Conteo de Caracteres Frecuentes **  \n",
        "#### **Problema**  \n",
        "Dada una cadena de texto, encuentra el carácter que más veces se repite e indica cuántas veces aparece.  \n",
        "\n",
        "#### **Ejemplo**  \n",
        "```python\n",
        "print(caracter_mas_frecuente(\"banana\"))  \n",
        "# ('a', 3)\n",
        "```\n",
        "\n",
        "#### **Aspectos a Evaluar**  \n",
        "  \n",
        "\n",
        "---\n",
        "\n",
        "### **3. Verificación de Sudoku Válido **  \n",
        "#### **Problema**  \n",
        "Dada una cuadrícula de Sudoku de 9x9, verifica si es válida (cumple con las reglas de filas, columnas y subcuadrículas de 3x3).  \n",
        "\n",
        "#### **Ejemplo**  \n",
        "```python\n",
        "print(validar_sudoku(tablero))  # True o False\n",
        "```\n",
        "\n",
        "\n",
        "\n",
        "---\n",
        "\n",
        "### **4. Números Primos en un Rango **  \n",
        "#### **Problema**  \n",
        "Escribe una función que reciba dos números `a` y `b` y devuelva una lista de todos los números primos en ese rango.  \n",
        "\n",
        "#### **Ejemplo**  \n",
        "```python\n",
        "print(numeros_primos(10, 30))  \n",
        "# [11, 13, 17, 19, 23, 29]\n",
        "```\n",
        "\n",
        "\n",
        "\n",
        "---\n",
        "\n",
        "### **5. Longitud de la Secuencia de Collatz **  \n",
        "#### **Problema**  \n",
        "La secuencia de Collatz se define así:  \n",
        "1. Si el número es par, se divide por 2.  \n",
        "2. Si es impar, se multiplica por 3 y se suma 1.  \n",
        "3. Se repite el proceso hasta llegar a 1.  \n",
        "\n",
        "Escribe una función que determine cuántos pasos toma un número `n` para llegar a 1.  \n",
        "\n",
        "#### **Ejemplo**  \n",
        "```python\n",
        "print(longitud_collatz(12))  \n",
        "# 9\n",
        "```\n",
        "\n",
        "\n",
        "\n",
        "\n",
        "---\n"
      ],
      "metadata": {
        "id": "3mseMKx2azuk"
      }
    },
    {
      "cell_type": "code",
      "execution_count": null,
      "metadata": {
        "id": "TarBIb18ayK0",
        "colab": {
          "base_uri": "https://localhost:8080/"
        },
        "outputId": "36e57055-9070-4d43-b500-ca1cff152ae0"
      },
      "outputs": [
        {
          "output_type": "stream",
          "name": "stdout",
          "text": [
            "Ingrese la cantidad de numeros a registrar: 5\n",
            "Ingrese el valor objetivo: 1\n",
            "Ingrese el valor 1: 0\n",
            "Ingrese el valor 2: 1\n",
            "Ingrese el valor 3: -2\n",
            "Ingrese el valor 4: 3\n",
            "Ingrese el valor 5: -2\n",
            "( 0 , 1 )\n",
            "( 1 , 0 )\n",
            "( -2 , 3 )\n",
            "( 3 , -2 )\n",
            "( 3 , -2 )\n",
            "( -2 , 3 )\n"
          ]
        }
      ],
      "source": [
        "#Ejercicio 1\n",
        "def encontrar_en_suma():\n",
        "  lista = []\n",
        "  x = int(input(\"Ingrese la cantidad de numeros a registrar: \"))\n",
        "  obj = int(input(\"Ingrese el valor objetivo: \"))\n",
        "\n",
        "  for n in range(x):\n",
        "    y = int(input(\"Ingrese el valor {}: \".format(n+1)))\n",
        "    lista.append(y)\n",
        "\n",
        "  for i in range(x):\n",
        "    for j in range(x):\n",
        "      if lista[i]+lista[j] == obj:\n",
        "        print(\"(\",lista[i],\",\",lista[j],\")\")\n",
        "\n",
        "encontrar_en_suma()"
      ]
    },
    {
      "cell_type": "code",
      "source": [
        "#Ejercicio 2\n",
        "def caracter_mas_frecuente():\n",
        "  cadena = input(\"Ingresa una palabra: \")\n",
        "  contador = {}\n",
        "\n",
        "  for char in cadena:\n",
        "    contador[char] = contador.get(char, 0) + 1\n",
        "    #print(contador)\n",
        "  max_char = max(contador, key=contador.get)\n",
        "  print(\"El caracter más repetido en la palabra \\\"\", cadena, \"\\\" fue '\", max_char, \"' y se repitió\", contador[max_char], \"veces.\")\n",
        "\n",
        "caracter_mas_frecuente()"
      ],
      "metadata": {
        "colab": {
          "base_uri": "https://localhost:8080/"
        },
        "id": "uNH3I8Z1L2Fj",
        "outputId": "01c7e82c-e451-40b6-a48f-cdff8c47b4a1"
      },
      "execution_count": null,
      "outputs": [
        {
          "output_type": "stream",
          "name": "stdout",
          "text": [
            "Ingresa una palabra: jajaja\n",
            "El caracter más repetido en la palabra \" jajaja \" fue ' j ' y se repitió 3 veces.\n"
          ]
        }
      ]
    },
    {
      "cell_type": "code",
      "source": [
        "#Ejercicio 3\n",
        "\n",
        "def sudoku(Tablero): #Tablero será una lista de 8 listas, representando cada fila del mismo tablero\n",
        "\n",
        "  def repetidos(fila):\n",
        "    return len(fila) != len(set(fila))\n",
        "\n",
        "  for fila in Tablero:\n",
        "    if repetidos(fila):\n",
        "      return False\n",
        "\n",
        "  for columna in range(9):\n",
        "    columna = [fila[columna] for fila in Tablero]\n",
        "    if repetidos(columna):\n",
        "      return False\n",
        "\n",
        "  for i in range(0, 9, 3):\n",
        "        for j in range(0, 9, 3):\n",
        "            subcuadro = []\n",
        "            for x in range(3):\n",
        "                for y in range(3):\n",
        "                    subcuadro.append(tablero[i+x][j+y])\n",
        "            if repetidos(subcuadro):\n",
        "                return False\n",
        "\n",
        "  for fila in Tablero:\n",
        "    if len(fila) != 9:\n",
        "      return False\n",
        "\n",
        "  return True\n",
        "\n",
        "\n",
        "\n",
        "tablero = [[5, 3, 4, 6, 7, 8, 9, 1, 2],\n",
        "           [6, 7, 2, 1, 9, 5, 3, 4, 8],\n",
        "           [1, 9, 8, 3, 4, 2, 5, 6, 7],\n",
        "           [8, 5, 9, 7, 6, 1, 4, 2, 3],\n",
        "           [4, 2, 6, 8, 5, 3, 7, 9, 1],\n",
        "           [7, 1, 3, 9, 2, 4, 8, 5, 6],\n",
        "           [9, 6, 1, 5, 3, 7, 2, 8, 4],\n",
        "           [2, 8, 7, 4, 1, 9, 6, 3, 5],\n",
        "           [3, 4, 5, 2, 8, 6, 1, 7, 9]]\n",
        "\n",
        "\n",
        "print(sudoku(tablero))"
      ],
      "metadata": {
        "colab": {
          "base_uri": "https://localhost:8080/"
        },
        "id": "fHvcpHu4X8ZS",
        "outputId": "a46fb482-4ff8-439d-92b6-8b73db966136"
      },
      "execution_count": null,
      "outputs": [
        {
          "output_type": "stream",
          "name": "stdout",
          "text": [
            "True\n"
          ]
        }
      ]
    },
    {
      "cell_type": "code",
      "source": [
        "#Ejercicio 4\n",
        "def es_primo(num):\n",
        "    if num < 2:\n",
        "        return False\n",
        "    for i in range(2, int(num ** 0.5) + 1):  # No se requiere evaluar más allá de la raíz del número\n",
        "        if num % i == 0:\n",
        "            return False\n",
        "    return True\n",
        "\n",
        "def primos_en_rango(a, b):\n",
        "    primos = []\n",
        "    for num in range(a, b + 1):\n",
        "        if es_primo(num):  # Se evalúa cada numero entre el rango y se ve si es primo, para agregarlo a la lista\n",
        "            primos.append(num)\n",
        "    return primos\n",
        "\n",
        "a = 10\n",
        "b = 50\n",
        "print(primos_en_rango(a, b))"
      ],
      "metadata": {
        "id": "umy4dPnTcM8l",
        "colab": {
          "base_uri": "https://localhost:8080/"
        },
        "outputId": "b95e6c28-0a15-4981-8873-baf610ba46f6"
      },
      "execution_count": null,
      "outputs": [
        {
          "output_type": "stream",
          "name": "stdout",
          "text": [
            "[11, 13, 17, 19, 23, 29, 31, 37, 41, 43, 47]\n"
          ]
        }
      ]
    },
    {
      "cell_type": "code",
      "source": [
        "\n",
        "def longitud_Collatz():\n",
        "  n = int(input(\"Ingrese un número: \"))\n",
        "  contador = 0\n",
        "  while True:\n",
        "    if n == 1:\n",
        "      break\n",
        "    if n%2 ==0:\n",
        "      n=n/2\n",
        "      contador += 1\n",
        "    else:\n",
        "      n=n*3+1\n",
        "      contador += 1\n",
        "  print(contador)\n",
        "\n",
        "longitud_Collatz()"
      ],
      "metadata": {
        "colab": {
          "base_uri": "https://localhost:8080/"
        },
        "id": "CVp3tHEpqTg4",
        "outputId": "b88f871f-3c7d-4a9d-cbb8-2d79d8a106e2"
      },
      "execution_count": null,
      "outputs": [
        {
          "output_type": "stream",
          "name": "stdout",
          "text": [
            "Ingrese un número: 12\n",
            "9\n"
          ]
        }
      ]
    }
  ]
}