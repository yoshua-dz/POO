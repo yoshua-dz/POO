{
  "nbformat": 4,
  "nbformat_minor": 0,
  "metadata": {
    "colab": {
      "provenance": [],
      "authorship_tag": "ABX9TyOv+fMcqe6Lk7OFA1sBrUgh",
      "include_colab_link": true
    },
    "kernelspec": {
      "name": "python3",
      "display_name": "Python 3"
    },
    "language_info": {
      "name": "python"
    }
  },
  "cells": [
    {
      "cell_type": "markdown",
      "metadata": {
        "id": "view-in-github",
        "colab_type": "text"
      },
      "source": [
        "<a href=\"https://colab.research.google.com/github/yoshua-dz/POO/blob/main/Yoshua_Diaz_Post_Instagram.ipynb\" target=\"_parent\"><img src=\"https://colab.research.google.com/assets/colab-badge.svg\" alt=\"Open In Colab\"/></a>"
      ]
    },
    {
      "cell_type": "code",
      "execution_count": 5,
      "metadata": {
        "colab": {
          "base_uri": "https://localhost:8080/"
        },
        "id": "q250kTUC8Qlp",
        "outputId": "ffdde2e5-6819-416c-ac1f-75a1f9a8bb8c"
      },
      "outputs": [
        {
          "output_type": "stream",
          "name": "stdout",
          "text": [
            "Título: Ice bucket challenge\n",
            "Fecha: 12/05/2025\n",
            "Ubicación: Gdl\n",
            "Etiquetas: Reto, IceBucket, Challenge\n",
            "\n",
            "------------- Interacciones -------------\n",
            "Likes: 2\n",
            "Compartidos: 1\n",
            "Comentarios:\n",
            "1. Dislaik\n",
            "2. El oro va en la orería\n"
          ]
        }
      ],
      "source": [
        "class Publicacion:\n",
        "    def __init__(self, titulo, fecha, etiquetas, ubicacion):\n",
        "        self.titulo = titulo\n",
        "        self.fecha = fecha\n",
        "        self.etiquetas = etiquetas  # Hashtags almacenados en una lista de strings\n",
        "        self.ubicacion = ubicacion\n",
        "\n",
        "    def mostrar_info(self):\n",
        "        print(f\"Título: {self.titulo}\")\n",
        "        print(f\"Fecha: {self.fecha}\")\n",
        "        print(f\"Ubicación: {self.ubicacion}\")\n",
        "        print(f\"Etiquetas: {', '.join(self.etiquetas)}\") #Ya que etiquetas es una lista, las usa, separándolas por \", \"\n",
        "\n",
        "class PublicacionSocial(Publicacion): # Esta subclase se encarga de comentarios, likes y compartidos\n",
        "    def __init__(self, titulo, fecha, etiquetas, ubicacion):\n",
        "        super().__init__(titulo, fecha, etiquetas, ubicacion) #herencia de la clase Publicacion\n",
        "        self.comentarios = []\n",
        "        self.likes = 0\n",
        "        self.compartidos = 0\n",
        "\n",
        "    def agregar_comentario(self, comentario):\n",
        "        self.comentarios.append(comentario)\n",
        "\n",
        "    def dar_like(self):\n",
        "        self.likes += 1\n",
        "\n",
        "    def compartir(self):\n",
        "        self.compartidos += 1\n",
        "\n",
        "    def mostrar_interaccion(self):\n",
        "        print(\"\\n------------- Interacciones -------------\")\n",
        "        print(f\"Likes: {self.likes}\")\n",
        "        print(f\"Compartidos: {self.compartidos}\")\n",
        "        print(\"Comentarios:\")\n",
        "        for i, comentario in enumerate(self.comentarios, 1):\n",
        "            print(f\"{i}. {comentario}\")\n",
        "\n",
        "post = PublicacionSocial(\n",
        "    titulo=\"Ice bucket challenge\",\n",
        "    fecha=\"12/05/2025\",\n",
        "    etiquetas=[\"Reto\", \"IceBucket\", \"Challenge\"],\n",
        "    ubicacion=\"Gdl\"\n",
        ")\n",
        "\n",
        "post.mostrar_info()\n",
        "post.dar_like()\n",
        "post.dar_like()\n",
        "post.compartir()\n",
        "post.agregar_comentario(\"Dislaik\")\n",
        "post.agregar_comentario(\"El oro va en la orería\")\n",
        "post.mostrar_interaccion()"
      ]
    }
  ]
}